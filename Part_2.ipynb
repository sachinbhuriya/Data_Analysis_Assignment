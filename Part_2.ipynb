{
  "cells": [
    {
      "cell_type": "markdown",
      "metadata": {
        "id": "Kpf3i0ZX0s3c"
      },
      "source": [
        "## Student Id:"
      ]
    },
    {
      "cell_type": "markdown",
      "metadata": {
        "id": "6wChkctc0s3d"
      },
      "source": [
        "# Part 2"
      ]
    },
    {
      "cell_type": "markdown",
      "metadata": {
        "deletable": false,
        "id": "rpWQiK9K0s3d"
      },
      "source": [
        "### Task 6 - Explore the dataset to identify an \"interesting\" pattern or trend"
      ]
    },
    {
      "cell_type": "code",
      "execution_count": 1,
      "metadata": {
        "deletable": false,
        "colab": {
          "base_uri": "https://localhost:8080/"
        },
        "id": "sZJL-3b_0s3e",
        "outputId": "6bb3c143-1c7a-46e1-b085-7a849bc09db7"
      },
      "outputs": [
        {
          "output_type": "stream",
          "name": "stdout",
          "text": [
            "Average Click Events by Final Result:\n",
            "final_result\n",
            "Distinction    3114.203402\n",
            "Fail            953.793794\n",
            "Pass           2168.343137\n",
            "Withdrawn      1119.588530\n",
            "Name: click_events, dtype: float64\n",
            "\n",
            "Correlation between Click Events and Score: 0.2751314422551821\n"
          ]
        }
      ],
      "source": [
        "import pandas as pd\n",
        "\n",
        "def merge_datasets(part_2a, part_2b):\n",
        "    # Merge datasets based on id_student\n",
        "    merged = pd.merge(part_2a, part_2b, on=\"id_student\", how=\"inner\")\n",
        "    return merged\n",
        "\n",
        "def analyze_pattern(merged_data):\n",
        "    # Group data by final_result to explore click_events trends\n",
        "    trends = merged_data.groupby(\"final_result\")[\"click_events\"].mean()\n",
        "    # Calculate correlation between click_events and score\n",
        "    correlation = merged_data[\"click_events\"].corr(merged_data[\"score\"])\n",
        "    return trends, correlation\n",
        "\n",
        "# Load datasets (assuming they are provided as CSV files)\n",
        "part_2a = pd.read_csv(\"part_2a.csv\")\n",
        "part_2b = pd.read_csv(\"part_2b.csv\")\n",
        "\n",
        "# Merge and analyze\n",
        "merged_data = merge_datasets(part_2a, part_2b)\n",
        "trends, correlation = analyze_pattern(merged_data)\n",
        "\n",
        "print(\"Average Click Events by Final Result:\")\n",
        "print(trends)\n",
        "print(f\"\\nCorrelation between Click Events and Score: {correlation}\")\n"
      ]
    },
    {
      "cell_type": "markdown",
      "metadata": {
        "deletable": false,
        "id": "NBloeafo0s3e"
      },
      "source": [
        "<p style=\"color:red; font-weight:bold; font-size:xx-small\">MARK: __%</p>\n",
        "<p style=\"color:red; font-weight:bold; font-size:xx-small\">FEEDBACK: </p>"
      ]
    },
    {
      "cell_type": "markdown",
      "metadata": {
        "deletable": false,
        "id": "-DRJ-1Zt0s3e"
      },
      "source": [
        "### Task 7 - Detect and remove any outliers in the data used for your \"interesting\" pattern or trend"
      ]
    },
    {
      "cell_type": "code",
      "execution_count": 2,
      "metadata": {
        "deletable": false,
        "colab": {
          "base_uri": "https://localhost:8080/"
        },
        "id": "E7RDq1fa0s3e",
        "outputId": "bb45b018-90f5-41aa-f1b5-0f9ad6925e32"
      },
      "outputs": [
        {
          "output_type": "stream",
          "name": "stdout",
          "text": [
            "Data after removing outliers: (23165, 10)\n"
          ]
        }
      ],
      "source": [
        "def remove_outliers(data, column):\n",
        "    Q1 = data[column].quantile(0.25)\n",
        "    Q3 = data[column].quantile(0.75)\n",
        "    IQR = Q3 - Q1\n",
        "    lower_bound = Q1 - 1.5 * IQR\n",
        "    upper_bound = Q3 + 1.5 * IQR\n",
        "    # Filter out outliers\n",
        "    filtered_data = data[(data[column] >= lower_bound) & (data[column] <= upper_bound)]\n",
        "    return filtered_data\n",
        "\n",
        "# Remove outliers in click_events and score\n",
        "cleaned_data = remove_outliers(merged_data, \"click_events\")\n",
        "cleaned_data = remove_outliers(cleaned_data, \"score\")\n",
        "\n",
        "print(f\"Data after removing outliers: {cleaned_data.shape}\")\n"
      ]
    },
    {
      "cell_type": "markdown",
      "metadata": {
        "deletable": false,
        "id": "ZtTse3Ap0s3e"
      },
      "source": [
        "<p style=\"color:red; font-weight:bold; font-size:xx-small\">MARK: __%</p>\n",
        "<p style=\"color:red; font-weight:bold; font-size:xx-small\">FEEDBACK: </p>"
      ]
    },
    {
      "cell_type": "markdown",
      "metadata": {
        "deletable": false,
        "id": "9equzKc00s3e"
      },
      "source": [
        "### Task 8 - Define a hypothesis to test your “interesting” pattern or trend an test your hypothesis with statistical significance level of 0.05"
      ]
    },
    {
      "cell_type": "code",
      "execution_count": 3,
      "metadata": {
        "deletable": false,
        "colab": {
          "base_uri": "https://localhost:8080/"
        },
        "id": "yf48TE6l0s3f",
        "outputId": "14be7881-c476-43c1-8c80-ddee5560d623"
      },
      "outputs": [
        {
          "output_type": "stream",
          "name": "stdout",
          "text": [
            "Reject the Null Hypothesis (H_0): Click events significantly impact student scores.\n"
          ]
        }
      ],
      "source": [
        "from scipy.stats import linregress\n",
        "\n",
        "def test_hypothesis(data):\n",
        "    # Perform linear regression\n",
        "    slope, intercept, r_value, p_value, std_err = linregress(data[\"click_events\"], data[\"score\"])\n",
        "    return p_value\n",
        "\n",
        "p_value = test_hypothesis(cleaned_data)\n",
        "\n",
        "if p_value < 0.05:\n",
        "    print(\"Reject the Null Hypothesis (H_0): Click events significantly impact student scores.\")\n",
        "else:\n",
        "    print(\"Fail to Reject the Null Hypothesis (H_0): No significant impact of click events on scores.\")\n"
      ]
    },
    {
      "cell_type": "markdown",
      "metadata": {
        "deletable": false,
        "id": "OO5UeUZI0s3f"
      },
      "source": [
        "<p style=\"color:red; font-weight:bold; font-size:xx-small\">MARK: __%</p>\n",
        "<p style=\"color:red; font-weight:bold; font-size:xx-small\">FEEDBACK: </p>"
      ]
    }
  ],
  "metadata": {
    "kernelspec": {
      "display_name": "Python 3 (ipykernel)",
      "language": "python",
      "name": "python3"
    },
    "language_info": {
      "codemirror_mode": {
        "name": "ipython",
        "version": 3
      },
      "file_extension": ".py",
      "mimetype": "text/x-python",
      "name": "python",
      "nbconvert_exporter": "python",
      "pygments_lexer": "ipython3",
      "version": "3.9.7"
    },
    "colab": {
      "provenance": []
    }
  },
  "nbformat": 4,
  "nbformat_minor": 0
}